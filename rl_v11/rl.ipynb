{
 "cells": [
  {
   "cell_type": "code",
   "execution_count": null,
   "metadata": {},
   "outputs": [],
   "source": [
    "from env import Env\n",
    "from player import Player\n",
    "import numpy\n",
    "import pandas\n"
   ]
  },
  {
   "cell_type": "code",
   "execution_count": null,
   "metadata": {},
   "outputs": [],
   "source": [
    "df = pandas.read_csv(\"dataset/feature.csv\")\n",
    "train_df = df[10000:20000].reset_index(drop=True)\n",
    "test_df = df[20000:].reset_index(drop=True)"
   ]
  },
  {
   "cell_type": "code",
   "execution_count": null,
   "metadata": {},
   "outputs": [],
   "source": [
    "train_env = Env(train_df)\n",
    "test_env = Env(test_df)\n"
   ]
  },
  {
   "cell_type": "code",
   "execution_count": null,
   "metadata": {},
   "outputs": [],
   "source": [
    "action_size, csv_size, img_size = train_env.action_size, train_env.csv_size, train_env.img_size"
   ]
  },
  {
   "cell_type": "code",
   "execution_count": null,
   "metadata": {
    "scrolled": true
   },
   "outputs": [],
   "source": [
    "player = Player(action_size, csv_size, img_size)"
   ]
  },
  {
   "cell_type": "code",
   "execution_count": null,
   "metadata": {},
   "outputs": [],
   "source": [
    "from collections import deque\n",
    "import random\n",
    "\n",
    "class Logger(object):\n",
    "    def __init__(self):\n",
    "        self.train_log = []\n",
    "        self.test_log = []\n",
    "        \n",
    "    def append_train_log(self, d):\n",
    "        self.train_log.append(d)\n",
    "\n",
    "    def append_test_log(self, d):\n",
    "        self.test_log.append(d)\n",
    "\n",
    "        \n",
    "def run(player, env, logger,\n",
    "        episode=100, batch_size=32, memory_size=1024, test_env=None):\n",
    "    exp = deque(maxlen=memory_size)\n",
    "    for e in range(episode):\n",
    "        if e % 100 == 0:\n",
    "            print(e)\n",
    "        done= False\n",
    "        capability_list = []\n",
    "        state = env.reset()\n",
    "        while not done:\n",
    "            action = player.get_action(state)\n",
    "            next_state, reward, done, info = env.step(action)\n",
    "            exp.append((state, action, reward, next_state, done))\n",
    "            state = next_state\n",
    "            capability_list.append(env.capability)\n",
    "        if len(exp) >= memory_size:\n",
    "            #return exp\n",
    "            states, actions, rewards, next_states, dones = select_batch(exp, batch_size)\n",
    "            player.train_model(states, actions, rewards, next_states, dones)\n",
    "\n",
    "        logger.append_train_log(capability_list)\n",
    "\n",
    "        if test_env is not None:\n",
    "            p = validation(player, test_env)\n",
    "            logger.append_test_log(p)\n",
    "        \n",
    "def validation(player, env):\n",
    "    done= False\n",
    "    capability_list = []\n",
    "    state = env.reset()\n",
    "    while not done:\n",
    "        action_prob = player.get_action_prob(state)\n",
    "        action = numpy.argmax(action_prob)\n",
    "        next_state, reward, done, info = env.step(action)\n",
    "        state = next_state\n",
    "        capability_list.append(env.capability)\n",
    "    return capability_list\n",
    "    \n",
    "        \n",
    "def select_batch(exp, batch_size):\n",
    "    tpls = random.sample(exp, batch_size)\n",
    "    csv = [t[0][0] for t in tpls]\n",
    "    img = [t[0][1] for t in tpls]\n",
    "    actions = [t[1] for t in tpls]\n",
    "    rewards = [t[2] for t in tpls]\n",
    "    next_csv = [t[3][0] for t in tpls]\n",
    "    next_img = [t[3][1] for t in tpls]\n",
    "    dones = [t[4] for t in tpls]\n",
    "    states = (_v(csv), _v(img))\n",
    "    next_states = (_v(next_csv), _v(next_img))\n",
    "    return states, _v(actions), _v(rewards), next_states, _v(dones)\n",
    "\n",
    "def _v(arr_list):\n",
    "    # explode\n",
    "    arr = numpy.vstack([v for v in arr_list])\n",
    "    return arr"
   ]
  },
  {
   "cell_type": "code",
   "execution_count": null,
   "metadata": {
    "scrolled": true
   },
   "outputs": [],
   "source": [
    "logger = Logger()\n",
    "run(player, train_env, logger, episode=10000, batch_size=64, memory_size=1024, test_env=test_env)\n",
    "#player.actor.save_weights(\"model/actor_weight.h5\")\n",
    "#player.critic.save_weights(\"model/critic_weight.h5\")\n"
   ]
  },
  {
   "cell_type": "code",
   "execution_count": null,
   "metadata": {},
   "outputs": [],
   "source": [
    "    tpls = random.sample(exp, 2)\n",
    "    csv = [t[0][0] for t in tpls]\n",
    "    img = [t[0][1] for t in tpls]\n",
    "    actions = [t[1] for t in tpls]\n",
    "    rewards = [t[2] for t in tpls]\n",
    "    next_states = [t[3] for t in tpls]\n",
    "    dones = [t[4] for t in tpls]\n",
    "    states = (_v(csv), _v(img))\n"
   ]
  },
  {
   "cell_type": "code",
   "execution_count": null,
   "metadata": {},
   "outputs": [],
   "source": [
    "next_states"
   ]
  },
  {
   "cell_type": "code",
   "execution_count": null,
   "metadata": {
    "scrolled": true
   },
   "outputs": [],
   "source": [
    "states, actions, rewards, next_states, dones = select_batch(exp, 2)"
   ]
  },
  {
   "cell_type": "code",
   "execution_count": null,
   "metadata": {
    "scrolled": true
   },
   "outputs": [],
   "source": [
    "import matplotlib.pyplot as plt\n",
    "\n",
    "def f(i):\n",
    "    if i <= 10:\n",
    "        return True\n",
    "    elif i <= 100 and i % 2 == 0:\n",
    "        return True\n",
    "    elif i <= 1000 and i % 10 == 0:\n",
    "        return True\n",
    "    elif i <= 10000 and i % 100 == 0:\n",
    "        return True\n",
    "    else:\n",
    "        return False\n",
    "\n",
    "n = len(logger.train_log)\n",
    "for i in range(n):\n",
    "    if f(i):\n",
    "        d = logger.train_log[i]\n",
    "        plt.plot(range(len(d)), d, alpha=i/n, c=\"r\")\n",
    "x = numpy.array(range(1000))\n",
    "cutline = x * 0 + 0.9\n",
    "plt.plot(x, cutline, c=\"b\")"
   ]
  },
  {
   "cell_type": "code",
   "execution_count": null,
   "metadata": {
    "scrolled": true
   },
   "outputs": [],
   "source": [
    "n = len(logger.test_log)\n",
    "v = [t[-1] for t in logger.test_log]\n",
    "plt.scatter(range(n), v)"
   ]
  },
  {
   "cell_type": "code",
   "execution_count": null,
   "metadata": {},
   "outputs": [],
   "source": [
    "n"
   ]
  },
  {
   "cell_type": "code",
   "execution_count": null,
   "metadata": {},
   "outputs": [],
   "source": []
  }
 ],
 "metadata": {
  "kernelspec": {
   "display_name": "Python 3",
   "language": "python",
   "name": "python3"
  },
  "language_info": {
   "codemirror_mode": {
    "name": "ipython",
    "version": 3
   },
   "file_extension": ".py",
   "mimetype": "text/x-python",
   "name": "python",
   "nbconvert_exporter": "python",
   "pygments_lexer": "ipython3",
   "version": "3.7.3"
  }
 },
 "nbformat": 4,
 "nbformat_minor": 2
}
