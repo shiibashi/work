{
 "cells": [
  {
   "cell_type": "code",
   "execution_count": 1,
   "metadata": {},
   "outputs": [],
   "source": [
    "import os\n",
    "import pandas\n",
    "import numpy\n",
    "import cv2\n",
    "\n",
    "\n",
    "def load_csv():\n",
    "    df = pandas.read_csv(\"data/csv/0.csv\")\n",
    "    return df\n",
    "\n",
    "def load_img():\n",
    "    img_data = {}\n",
    "    filename_list = os.listdir(\"data/img\")\n",
    "    for filename in filename_list:\n",
    "        img = cv2.imread(\"data/img/{}\".format(filename))\n",
    "        ymd = filename.split(\".\")[0]\n",
    "        img_data[ymd] = img\n",
    "    return img_data\n",
    "\n",
    "def load_txt_csv():\n",
    "    news_df = pandas.read_csv(\"data/text/news.csv\")\n",
    "    news_df[\"date\"] = news_df[\"Date\"]\n",
    "    arr = numpy.loadtxt(\"data/text/news_vec.csv\", delimiter=\",\")\n",
    "    news_feature = pandas.DataFrame(arr)\n",
    "    cols = [\"news_feature_{}\".format(col) for col in news_feature.columns]\n",
    "    news_feature.columns = cols\n",
    "    df = pandas.concat([news_df, news_feature], axis=1)\n",
    "    return df"
   ]
  },
  {
   "cell_type": "code",
   "execution_count": 2,
   "metadata": {
    "scrolled": true
   },
   "outputs": [],
   "source": [
    "csv = load_csv()\n",
    "img = load_img()\n",
    "news_df = load_txt_csv()"
   ]
  },
  {
   "cell_type": "code",
   "execution_count": 3,
   "metadata": {
    "scrolled": true
   },
   "outputs": [],
   "source": [
    "csv[\"nextday_profit\"] = (csv[\"profit\"].shift(-1)).apply(lambda x: 1 if x >= 0 else 0)\n",
    "#csv[\"label_0\"] = csv[\"nextday_profit\"].apply(lambda x: 1 if x == 0 else 0)\n",
    "#csv[\"label_1\"] = csv[\"nextday_profit\"].apply(lambda x: 1 if x == 1 else 0)\n",
    "\n",
    "csv[\"label_0\"] = csv[\"f1\"].apply(lambda x: 1 if x <=0.5 else 0)\n",
    "csv[\"label_1\"] = csv[\"f1\"].apply(lambda x: 1 if x >0.5 else 0)"
   ]
  },
  {
   "cell_type": "code",
   "execution_count": 4,
   "metadata": {},
   "outputs": [],
   "source": [
    "split_ymd = \"2016-10-30\""
   ]
  },
  {
   "cell_type": "code",
   "execution_count": 5,
   "metadata": {},
   "outputs": [],
   "source": [
    "train_ymd = {ymd for ymd in img.keys() if ymd <= split_ymd}\n",
    "test_ymd = {ymd for ymd in img.keys() if ymd > split_ymd}"
   ]
  },
  {
   "cell_type": "code",
   "execution_count": 7,
   "metadata": {
    "scrolled": true
   },
   "outputs": [],
   "source": [
    "tmp = pandas.DataFrame(train_ymd, columns=[\"date\"])\n",
    "train_img = numpy.array([arr for ymd, arr in img.items() if ymd <= split_ymd])\n",
    "train_df = csv.merge(tmp, on=\"date\", how=\"inner\")\n",
    "train_csv = train_df[[\"f1\", \"f2\", \"f3\"]]\n",
    "train_news_csv = news_df.merge(tmp, on=\"date\", how=\"inner\")[news_df.columns[3:]]\n",
    "train_label = train_df[[\"label_0\", \"label_1\"]]\n",
    "\n",
    "tmp = pandas.DataFrame(test_ymd, columns=[\"date\"])\n",
    "test_img = numpy.array([arr for ymd, arr in img.items() if ymd > split_ymd])\n",
    "test_df = csv.merge(tmp, on=\"date\", how=\"inner\")\n",
    "test_news_csv = news_df.merge(tmp, on=\"date\", how=\"inner\")[news_df.columns[3:]]\n",
    "test_csv = test_df[[\"f1\", \"f2\", \"f3\"]]\n",
    "test_label = test_df[[\"label_0\", \"label_1\"]]"
   ]
  },
  {
   "cell_type": "code",
   "execution_count": 8,
   "metadata": {
    "scrolled": true
   },
   "outputs": [
    {
     "name": "stderr",
     "output_type": "stream",
     "text": [
      "Using TensorFlow backend.\n"
     ]
    }
   ],
   "source": [
    "import keras\n",
    "from keras.layers.core import Dense, Activation, Flatten\n",
    "from keras.layers import Conv2D, MaxPooling2D, Concatenate\n",
    "from keras.layers.normalization import BatchNormalization\n",
    "from keras import Input, Sequential\n",
    "from keras.optimizers import SGD\n",
    "from keras.losses import categorical_crossentropy"
   ]
  },
  {
   "cell_type": "code",
   "execution_count": 9,
   "metadata": {},
   "outputs": [
    {
     "name": "stdout",
     "output_type": "stream",
     "text": [
      "WARNING:tensorflow:From /home/systra/.pyenv/versions/3.7.3/envs/dev/lib/python3.7/site-packages/tensorflow/python/framework/op_def_library.py:263: colocate_with (from tensorflow.python.framework.ops) is deprecated and will be removed in a future version.\n",
      "Instructions for updating:\n",
      "Colocations handled automatically by placer.\n"
     ]
    }
   ],
   "source": [
    "length, height, width, channel = train_img.shape\n",
    "\n",
    "input_img = Input(name=\"input_img\", shape=(height, width, channel))\n",
    "n_img = Conv2D(filters=32, kernel_size=(3, 3), padding=\"same\",\n",
    "                      activation=\"relu\", name=\"img_conv2d_1\")(input_img)\n",
    "n_img = MaxPooling2D(pool_size=(2, 2), name=\"img_maxpool_1\")(n_img)\n",
    "n_img = Conv2D(filters=32, kernel_size=(3, 3), padding=\"same\",\n",
    "                      activation=\"relu\", name=\"img_conv2d_2\")(n_img)\n",
    "n_img = BatchNormalization(name=\"img_bn_1\")(n_img)\n",
    "n_img = MaxPooling2D(pool_size=(2, 2), name=\"img_maxpool_2\")(n_img)\n",
    "n_img = Flatten(name=\"img_flatten_1\")(n_img)\n",
    "n_img = Dense(8, activation=\"relu\", name=\"img_dence_1\")(n_img)"
   ]
  },
  {
   "cell_type": "code",
   "execution_count": 10,
   "metadata": {},
   "outputs": [],
   "source": [
    "input_csv = Input(name=\"input_csv\", shape=(3, ))\n",
    "n_csv = Dense(8, activation=\"relu\", name=\"csv_dence_1\")(input_csv)\n",
    "\n",
    "input_news = Input(name=\"input_news\", shape=(768, ))\n",
    "n_news = Dense(8, activation=\"relu\", name=\"news_dence_1\")(input_news)"
   ]
  },
  {
   "cell_type": "code",
   "execution_count": 11,
   "metadata": {},
   "outputs": [],
   "source": [
    "network = Concatenate()([n_img, n_csv, n_news])\n",
    "network = Dense(8, activation=\"relu\", name=\"merge_dense_1\")(network)\n",
    "network = BatchNormalization(name=\"merge_bn_1\")(network)\n",
    "network = Dense(2, activation=\"softmax\", name=\"output\")(network)"
   ]
  },
  {
   "cell_type": "code",
   "execution_count": 12,
   "metadata": {
    "scrolled": true
   },
   "outputs": [],
   "source": [
    "model = keras.Model(inputs=[input_img, input_csv, input_news], outputs=network)"
   ]
  },
  {
   "cell_type": "code",
   "execution_count": 13,
   "metadata": {},
   "outputs": [],
   "source": [
    "model.compile(SGD(), loss=categorical_crossentropy, metrics=[\"accuracy\"])"
   ]
  },
  {
   "cell_type": "code",
   "execution_count": 14,
   "metadata": {
    "scrolled": true
   },
   "outputs": [
    {
     "name": "stdout",
     "output_type": "stream",
     "text": [
      "WARNING:tensorflow:From /home/systra/.pyenv/versions/3.7.3/envs/dev/lib/python3.7/site-packages/tensorflow/python/ops/math_ops.py:3066: to_int32 (from tensorflow.python.ops.math_ops) is deprecated and will be removed in a future version.\n",
      "Instructions for updating:\n",
      "Use tf.cast instead.\n",
      "Train on 202 samples, validate on 42 samples\n",
      "Epoch 1/10\n",
      "202/202 [==============================] - 18s 88ms/step - loss: 0.7203 - acc: 0.5198 - val_loss: 0.7419 - val_acc: 0.3810\n",
      "Epoch 2/10\n",
      "202/202 [==============================] - 16s 80ms/step - loss: 0.7395 - acc: 0.6040 - val_loss: 4.2025 - val_acc: 0.6190\n",
      "Epoch 3/10\n",
      "202/202 [==============================] - 16s 80ms/step - loss: 0.6995 - acc: 0.5693 - val_loss: 2.1635 - val_acc: 0.6190\n",
      "Epoch 4/10\n",
      "202/202 [==============================] - 16s 78ms/step - loss: 0.6424 - acc: 0.6733 - val_loss: 1.7251 - val_acc: 0.6190\n",
      "Epoch 5/10\n",
      "202/202 [==============================] - 16s 79ms/step - loss: 0.5830 - acc: 0.7376 - val_loss: 1.0316 - val_acc: 0.6190\n",
      "Epoch 6/10\n",
      "202/202 [==============================] - 16s 81ms/step - loss: 0.4676 - acc: 0.8218 - val_loss: 1.1709 - val_acc: 0.6190\n",
      "Epoch 7/10\n",
      "202/202 [==============================] - 16s 79ms/step - loss: 0.3743 - acc: 0.9356 - val_loss: 1.1200 - val_acc: 0.6190\n",
      "Epoch 8/10\n",
      "202/202 [==============================] - 16s 80ms/step - loss: 0.3431 - acc: 0.9851 - val_loss: 0.9377 - val_acc: 0.6190\n",
      "Epoch 9/10\n",
      "202/202 [==============================] - 16s 80ms/step - loss: 0.2953 - acc: 0.9901 - val_loss: 0.8981 - val_acc: 0.6190\n",
      "Epoch 10/10\n",
      "202/202 [==============================] - 16s 78ms/step - loss: 0.2830 - acc: 0.9653 - val_loss: 0.8263 - val_acc: 0.6190\n"
     ]
    }
   ],
   "source": [
    "history = model.fit(\n",
    "    [train_img, numpy.array(train_csv), train_news_csv], numpy.array(train_label),\n",
    "    epochs=10,\n",
    "    batch_size=16,\n",
    "    validation_data=([test_img, numpy.array(test_csv), test_news_csv], numpy.array(test_label))\n",
    ")"
   ]
  },
  {
   "cell_type": "code",
   "execution_count": null,
   "metadata": {},
   "outputs": [],
   "source": []
  }
 ],
 "metadata": {
  "kernelspec": {
   "display_name": "Python 3",
   "language": "python",
   "name": "python3"
  },
  "language_info": {
   "codemirror_mode": {
    "name": "ipython",
    "version": 3
   },
   "file_extension": ".py",
   "mimetype": "text/x-python",
   "name": "python",
   "nbconvert_exporter": "python",
   "pygments_lexer": "ipython3",
   "version": "3.7.3"
  }
 },
 "nbformat": 4,
 "nbformat_minor": 2
}
