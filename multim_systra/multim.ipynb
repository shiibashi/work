{
 "cells": [
  {
   "cell_type": "code",
   "execution_count": 1,
   "metadata": {},
   "outputs": [],
   "source": [
    "import os\n",
    "import pandas\n",
    "import numpy\n",
    "import cv2\n",
    "# 2016-01-01で学習2016-01-02のprofitの正負を予測\n",
    "\n",
    "\n",
    "def load_csv():\n",
    "    df = pandas.read_csv(\"data/csv/0.csv\")\n",
    "    return df\n",
    "\n",
    "def load_img():\n",
    "    img_data = {}\n",
    "    filename_list = os.listdir(\"data/img\")\n",
    "    for filename in filename_list:\n",
    "        img = cv2.imread(\"data/img/{}\".format(filename))\n",
    "        ymd = filename.split(\".\")[0]\n",
    "        img_data[ymd] = img\n",
    "    return img_data"
   ]
  },
  {
   "cell_type": "code",
   "execution_count": 2,
   "metadata": {
    "scrolled": true
   },
   "outputs": [],
   "source": [
    "csv = load_csv()\n",
    "img = load_img()"
   ]
  },
  {
   "cell_type": "code",
   "execution_count": 3,
   "metadata": {
    "scrolled": true
   },
   "outputs": [],
   "source": [
    "csv[\"nextday_profit\"] = (csv[\"profit\"].shift(-1)).apply(lambda x: 1 if x >= 0 else 0)\n",
    "#csv[\"label_0\"] = csv[\"nextday_profit\"].apply(lambda x: 1 if x == 0 else 0)\n",
    "#csv[\"label_1\"] = csv[\"nextday_profit\"].apply(lambda x: 1 if x == 1 else 0)\n",
    "\n",
    "csv[\"label_0\"] = csv[\"f1\"].apply(lambda x: 1 if x <=0.5 else 0)\n",
    "csv[\"label_1\"] = csv[\"f1\"].apply(lambda x: 1 if x >0.5 else 0)"
   ]
  },
  {
   "cell_type": "code",
   "execution_count": 5,
   "metadata": {},
   "outputs": [],
   "source": [
    "split_ymd = \"2016-10-30\"\n"
   ]
  },
  {
   "cell_type": "code",
   "execution_count": 6,
   "metadata": {},
   "outputs": [],
   "source": [
    "train_ymd = {ymd for ymd in img.keys() if ymd <= split_ymd}\n",
    "test_ymd = {ymd for ymd in img.keys() if ymd > split_ymd}"
   ]
  },
  {
   "cell_type": "code",
   "execution_count": 7,
   "metadata": {
    "scrolled": true
   },
   "outputs": [],
   "source": [
    "tmp = pandas.DataFrame(train_ymd, columns=[\"date\"])\n",
    "train_img = numpy.array([arr for ymd, arr in img.items() if ymd <= split_ymd])\n",
    "train_df = csv.merge(tmp, on=\"date\", how=\"inner\")\n",
    "train_csv = train_df[[\"f1\", \"f2\", \"f3\"]]\n",
    "train_label = train_df[[\"label_0\", \"label_1\"]]\n",
    "\n",
    "tmp = pandas.DataFrame(test_ymd, columns=[\"date\"])\n",
    "test_img = numpy.array([arr for ymd, arr in img.items() if ymd > split_ymd])\n",
    "test_df = csv.merge(tmp, on=\"date\", how=\"inner\")\n",
    "test_csv = test_df[[\"f1\", \"f2\", \"f3\"]]\n",
    "test_label = test_df[[\"label_0\", \"label_1\"]]"
   ]
  },
  {
   "cell_type": "code",
   "execution_count": 8,
   "metadata": {
    "scrolled": true
   },
   "outputs": [
    {
     "name": "stderr",
     "output_type": "stream",
     "text": [
      "Using TensorFlow backend.\n"
     ]
    }
   ],
   "source": [
    "import keras\n",
    "from keras.layers.core import Dense, Activation, Flatten\n",
    "from keras.layers import Conv2D, MaxPooling2D, Concatenate\n",
    "from keras.layers.normalization import BatchNormalization\n",
    "from keras import Input, Sequential\n",
    "from keras.optimizers import SGD\n",
    "from keras.losses import categorical_crossentropy"
   ]
  },
  {
   "cell_type": "code",
   "execution_count": 9,
   "metadata": {},
   "outputs": [
    {
     "name": "stdout",
     "output_type": "stream",
     "text": [
      "WARNING:tensorflow:From /home/systra/.pyenv/versions/3.7.3/envs/dev/lib/python3.7/site-packages/tensorflow/python/framework/op_def_library.py:263: colocate_with (from tensorflow.python.framework.ops) is deprecated and will be removed in a future version.\n",
      "Instructions for updating:\n",
      "Colocations handled automatically by placer.\n"
     ]
    }
   ],
   "source": [
    "length, height, width, channel = train_img.shape\n",
    "\n",
    "input_img = Input(name=\"input_img\", shape=(height, width, channel))\n",
    "n_img = Conv2D(filters=32, kernel_size=(3, 3), padding=\"same\",\n",
    "                      activation=\"relu\", name=\"img_conv2d_1\")(input_img)\n",
    "n_img = MaxPooling2D(pool_size=(2, 2), name=\"img_maxpool_1\")(n_img)\n",
    "n_img = Conv2D(filters=32, kernel_size=(3, 3), padding=\"same\",\n",
    "                      activation=\"relu\", name=\"img_conv2d_2\")(n_img)\n",
    "n_img = BatchNormalization(name=\"img_bn_1\")(n_img)\n",
    "n_img = MaxPooling2D(pool_size=(2, 2), name=\"img_maxpool_2\")(n_img)\n",
    "n_img = Flatten(name=\"img_flatten_1\")(n_img)\n",
    "n_img = Dense(8, activation=\"relu\", name=\"img_dence_1\")(n_img)"
   ]
  },
  {
   "cell_type": "code",
   "execution_count": 15,
   "metadata": {},
   "outputs": [],
   "source": [
    "input_csv = Input(name=\"input_csv\", shape=(3, ))\n",
    "n_csv = Dense(8, activation=\"relu\", name=\"csv_dence_1\")(input_csv)"
   ]
  },
  {
   "cell_type": "code",
   "execution_count": 16,
   "metadata": {},
   "outputs": [],
   "source": [
    "network = Concatenate()([n_img, n_csv])\n",
    "network = Dense(8, activation=\"relu\", name=\"merge_dense_1\")(network)\n",
    "network = BatchNormalization(name=\"merge_bn_1\")(network)\n",
    "network = Dense(2, activation=\"softmax\", name=\"output\")(network)"
   ]
  },
  {
   "cell_type": "code",
   "execution_count": 17,
   "metadata": {},
   "outputs": [],
   "source": [
    "model = keras.Model(inputs=[input_img, input_csv], outputs=network)"
   ]
  },
  {
   "cell_type": "code",
   "execution_count": 18,
   "metadata": {},
   "outputs": [],
   "source": [
    "model.compile(SGD(), loss=categorical_crossentropy, metrics=[\"accuracy\"])"
   ]
  },
  {
   "cell_type": "code",
   "execution_count": 19,
   "metadata": {
    "scrolled": true
   },
   "outputs": [
    {
     "name": "stdout",
     "output_type": "stream",
     "text": [
      "Train on 202 samples, validate on 42 samples\n",
      "Epoch 1/10\n",
      "202/202 [==============================] - 17s 83ms/step - loss: 1.0881 - acc: 0.4653 - val_loss: 5.2499 - val_acc: 0.3810\n",
      "Epoch 2/10\n",
      "202/202 [==============================] - 15s 75ms/step - loss: 0.5369 - acc: 0.7574 - val_loss: 6.2198 - val_acc: 0.3810\n",
      "Epoch 3/10\n",
      "202/202 [==============================] - 15s 75ms/step - loss: 0.2631 - acc: 0.9505 - val_loss: 4.7491 - val_acc: 0.3810\n",
      "Epoch 4/10\n",
      "202/202 [==============================] - 15s 73ms/step - loss: 0.1675 - acc: 0.9901 - val_loss: 3.9148 - val_acc: 0.3810\n",
      "Epoch 5/10\n",
      "202/202 [==============================] - 16s 77ms/step - loss: 0.1602 - acc: 0.9901 - val_loss: 3.1620 - val_acc: 0.3810\n",
      "Epoch 6/10\n",
      "202/202 [==============================] - 15s 76ms/step - loss: 0.1180 - acc: 1.0000 - val_loss: 2.7119 - val_acc: 0.3810\n",
      "Epoch 7/10\n",
      "202/202 [==============================] - 16s 77ms/step - loss: 0.1064 - acc: 1.0000 - val_loss: 2.3072 - val_acc: 0.3810\n",
      "Epoch 8/10\n",
      "202/202 [==============================] - 16s 78ms/step - loss: 0.1035 - acc: 1.0000 - val_loss: 2.0305 - val_acc: 0.3810\n",
      "Epoch 9/10\n",
      "202/202 [==============================] - 15s 77ms/step - loss: 0.1043 - acc: 1.0000 - val_loss: 1.8109 - val_acc: 0.3810\n",
      "Epoch 10/10\n",
      "202/202 [==============================] - 16s 77ms/step - loss: 0.0926 - acc: 1.0000 - val_loss: 1.6135 - val_acc: 0.3810\n"
     ]
    }
   ],
   "source": [
    "history = model.fit(\n",
    "    [train_img, numpy.array(train_csv)], numpy.array(train_label),\n",
    "    epochs=10,\n",
    "    batch_size=16,\n",
    "    validation_data=([test_img, numpy.array(test_csv)], numpy.array(test_label))\n",
    ")"
   ]
  },
  {
   "cell_type": "code",
   "execution_count": null,
   "metadata": {},
   "outputs": [],
   "source": []
  }
 ],
 "metadata": {
  "kernelspec": {
   "display_name": "Python 3",
   "language": "python",
   "name": "python3"
  },
  "language_info": {
   "codemirror_mode": {
    "name": "ipython",
    "version": 3
   },
   "file_extension": ".py",
   "mimetype": "text/x-python",
   "name": "python",
   "nbconvert_exporter": "python",
   "pygments_lexer": "ipython3",
   "version": "3.7.3"
  }
 },
 "nbformat": 4,
 "nbformat_minor": 2
}
